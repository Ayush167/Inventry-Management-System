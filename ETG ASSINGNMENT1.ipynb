{
 "cells": [
  {
   "cell_type": "code",
   "execution_count": 3,
   "id": "b5572bb3",
   "metadata": {},
   "outputs": [],
   "source": [
    "record = {1111:{\"Name of Product\":\"Tomato Kechup\",\"Quantity\":\"1\",\"Manufacturing date\":\"01/09/2021\",\"Expiry date\":\"02/09/2022\",\"Price\":\"100\"},\n",
    "          1112:{\"Name of Product\":\"Kurkure\",\"Quantity\":\"5\",\"Manufacturing date\":\"05/08/2021\",\"Expiry date\":\"02/12/2021\",\"Price\":\"20\"},\n",
    "          1113:{\"Name of Product\":\"LED Bulb\",\"Quantity\":\"2\",\"Manufacturing date\":\"07/07/2021\",\"Expiry date\":\"11/12/2023\",\"Price\":\"150\"},\n",
    "          1114:{\"Name of Product\":\"Apple\",\"Quantity\":\"1\",\"Manufacturing date\":\"01/11/2021\",\"Expiry date\":\"05/11/2021\",\"Price\":\"180\"},\n",
    "          1115:{\"Name of Product\":\"Oil\",\"Quantity\":\"4\",\"Manufacturing date\":\"05/03/2021\",\"Expiry date\":\"02/11/2022\",\"Price\":\"1000\"},\n",
    "          1116:{\"Name of Product\":\"onion\",\"Quantity\":\"5\",\"Manufacturing date\":\"01/01/2021\",\"Expiry date\":\"11/12/2022\",\"Price\":\"150\"},\n",
    "          1117:{\"Name of Product\":\"Masala\",\"Quantity\":\"1\",\"Manufacturing date\":\"01/05/2021\",\"Expiry date\":\"02/05/2022\",\"Price\":\"100\"},\n",
    "          1118:{\"Name of Product\":\"Maggi\",\"Quantity\":\"5\",\"Manufacturing date\":\"28/02/2021\",\"Expiry date\":\"28/12/2021\",\"Price\":\"150\"},\n",
    "          1119:{\"Name of Product\":\"Eye Drop\",\"Quantity\":\"2\",\"Manufacturing date\":\"01/07/2021\",\"Expiry date\":\"02/12/2023\",\"Price\":\"500\"},\n",
    "          1120:{\"Name of Product\":\"Medicines\",\"Quantity\":\"1\",\"Manufacturing date\":\"15/10/2021\",\"Expiry date\":\"09/11/2022\",\"Price\":\"1080\"},\n",
    "          1121:{\"Name of Product\":\"Chocklate\",\"Quantity\":\"4\",\"Manufacturing date\":\"15/03/2021\",\"Expiry date\":\"22/09/2022\",\"Price\":\"1000\"},\n",
    "          1122:{\"Name of Product\":\"Pizza\",\"Quantity\":\"5\",\"Manufacturing date\":\"01/01/2021\",\"Expiry date\":\"02/01/2021\",\"Price\":\"1050\"},\n",
    "          1123:{\"Name of Product\":\"Hard drinks\",\"Quantity\":\"1\",\"Manufacturing date\":\"03/09/2021\",\"Expiry date\":\"05/09/2022\",\"Price\":\"1000\"},\n",
    "          1124:{\"Name of Product\":\"Car\",\"Quantity\":\"1\",\"Manufacturing date\":\"05/08/2021\",\"Expiry date\":\"02/12/2036\",\"Price\":\"200000\"},\n",
    "          1125:{\"Name of Product\":\"Charger\",\"Quantity\":\"2\",\"Manufacturing date\":\"07/07/2019\",\"Expiry date\":\"11/12/2024\",\"Price\":\"1500\"},\n",
    "          1126:{\"Name of Product\":\"cell\",\"Quantity\":\"1\",\"Manufacturing date\":\"01/11/2021\",\"Expiry date\":\"05/01/2022\",\"Price\":\"10\"},\n",
    "          1127:{\"Name of Product\":\"Phone\",\"Quantity\":\"4\",\"Manufacturing date\":\"05/03/2021\",\"Expiry date\":\"02/11/2027\",\"Price\":\"40000\"},\n",
    "          1128:{\"Name of Product\":\"Insulin\",\"Quantity\":\"5\",\"Manufacturing date\":\"01/01/2021\",\"Expiry date\":\"01/12/2023\",\"Price\":\"3500\"},\n",
    "          1129:{\"Name of Product\":\"lantus\",\"Quantity\":\"10\",\"Manufacturing date\":\"01/04/2021\",\"Expiry date\":\"02/05/2024\",\"Price\":\"5000\"},\n",
    "          1130:{\"Name of Product\":\"Sooji\",\"Quantity\":\"5\",\"Manufacturing date\":\"25/02/2021\",\"Expiry date\":\"28/12/2022\",\"Price\":\"150\"},\n",
    "          1131:{\"Name of Product\":\"Board\",\"Quantity\":\"2\",\"Manufacturing date\":\"01/07/2021\",\"Expiry date\":\"02/05/2023\",\"Price\":\"500\"},\n",
    "          1132:{\"Name of Product\":\"Curtain\",\"Quantity\":\"1\",\"Manufacturing date\":\"15/11/2021\",\"Expiry date\":\"09/11/2026\",\"Price\":\"10800\"},\n",
    "          1133:{\"Name of Product\":\"Bags\",\"Quantity\":\"4\",\"Manufacturing date\":\"15/06/2021\",\"Expiry date\":\"22/09/2022\",\"Price\":\"1000\"},\n",
    "          1134:{\"Name of Product\":\"Kitkat\",\"Quantity\":\"5\",\"Manufacturing date\":\"01/01/2021\",\"Expiry date\":\"02/01/2021\",\"Price\":\"1050\"},\n",
    "          1135:{\"Name of Product\":\"Rubber\",\"Quantity\":\"2\",\"Manufacturing date\":\"25/07/2019\",\"Expiry date\":\"11/12/2024\",\"Price\":\"1500\"},\n",
    "          1136:{\"Name of Product\":\"Tyre\",\"Quantity\":\"1\",\"Manufacturing date\":\"01/11/2021\",\"Expiry date\":\"05/01/2022\",\"Price\":\"1000\"},\n",
    "          1137:{\"Name of Product\":\"Sugar\",\"Quantity\":\"4\",\"Manufacturing date\":\"15/03/2021\",\"Expiry date\":\"26/11/2027\",\"Price\":\"4000\"},\n",
    "          1138:{\"Name of Product\":\"Honey\",\"Quantity\":\"5\",\"Manufacturing date\":\"23/01/2021\",\"Expiry date\":\"29/12/2023\",\"Price\":\"3500\"},\n",
    "          1139:{\"Name of Product\":\"Shoes\",\"Quantity\":\"10\",\"Manufacturing date\":\"01/04/2021\",\"Expiry date\":\"02/05/2024\",\"Price\":\"5000\"},\n",
    "          1140:{\"Name of Product\":\"Moquito Killer\",\"Quantity\":\"5\",\"Manufacturing date\":\"21/02/2021\",\"Expiry date\":\"22/12/2022\",\"Price\":\"1500\"}}"
   ]
  },
  {
   "cell_type": "code",
   "execution_count": 4,
   "id": "ceb2f4f6",
   "metadata": {},
   "outputs": [
    {
     "data": {
      "text/plain": [
       "{1111: {'Name of Product': 'Tomato Kechup',\n",
       "  'Quantity': '1',\n",
       "  'Manufacturing date': '01/09/2021',\n",
       "  'Expiry date': '02/09/2022',\n",
       "  'Price': '100'},\n",
       " 1112: {'Name of Product': 'Kurkure',\n",
       "  'Quantity': '5',\n",
       "  'Manufacturing date': '05/08/2021',\n",
       "  'Expiry date': '02/12/2021',\n",
       "  'Price': '20'},\n",
       " 1113: {'Name of Product': 'LED Bulb',\n",
       "  'Quantity': '2',\n",
       "  'Manufacturing date': '07/07/2021',\n",
       "  'Expiry date': '11/12/2023',\n",
       "  'Price': '150'},\n",
       " 1114: {'Name of Product': 'Apple',\n",
       "  'Quantity': '1',\n",
       "  'Manufacturing date': '01/11/2021',\n",
       "  'Expiry date': '05/11/2021',\n",
       "  'Price': '180'},\n",
       " 1115: {'Name of Product': 'Oil',\n",
       "  'Quantity': '4',\n",
       "  'Manufacturing date': '05/03/2021',\n",
       "  'Expiry date': '02/11/2022',\n",
       "  'Price': '1000'},\n",
       " 1116: {'Name of Product': 'onion',\n",
       "  'Quantity': '5',\n",
       "  'Manufacturing date': '01/01/2021',\n",
       "  'Expiry date': '11/12/2022',\n",
       "  'Price': '150'},\n",
       " 1117: {'Name of Product': 'Masala',\n",
       "  'Quantity': '1',\n",
       "  'Manufacturing date': '01/05/2021',\n",
       "  'Expiry date': '02/05/2022',\n",
       "  'Price': '100'},\n",
       " 1118: {'Name of Product': 'Maggi',\n",
       "  'Quantity': '5',\n",
       "  'Manufacturing date': '28/02/2021',\n",
       "  'Expiry date': '28/12/2021',\n",
       "  'Price': '150'},\n",
       " 1119: {'Name of Product': 'Eye Drop',\n",
       "  'Quantity': '2',\n",
       "  'Manufacturing date': '01/07/2021',\n",
       "  'Expiry date': '02/12/2023',\n",
       "  'Price': '500'},\n",
       " 1120: {'Name of Product': 'Medicines',\n",
       "  'Quantity': '1',\n",
       "  'Manufacturing date': '15/10/2021',\n",
       "  'Expiry date': '09/11/2022',\n",
       "  'Price': '1080'},\n",
       " 1121: {'Name of Product': 'Chocklate',\n",
       "  'Quantity': '4',\n",
       "  'Manufacturing date': '15/03/2021',\n",
       "  'Expiry date': '22/09/2022',\n",
       "  'Price': '1000'},\n",
       " 1122: {'Name of Product': 'Pizza',\n",
       "  'Quantity': '5',\n",
       "  'Manufacturing date': '01/01/2021',\n",
       "  'Expiry date': '02/01/2021',\n",
       "  'Price': '1050'},\n",
       " 1123: {'Name of Product': 'Hard drinks',\n",
       "  'Quantity': '1',\n",
       "  'Manufacturing date': '03/09/2021',\n",
       "  'Expiry date': '05/09/2022',\n",
       "  'Price': '1000'},\n",
       " 1124: {'Name of Product': 'Car',\n",
       "  'Quantity': '1',\n",
       "  'Manufacturing date': '05/08/2021',\n",
       "  'Expiry date': '02/12/2036',\n",
       "  'Price': '200000'},\n",
       " 1125: {'Name of Product': 'Charger',\n",
       "  'Quantity': '2',\n",
       "  'Manufacturing date': '07/07/2019',\n",
       "  'Expiry date': '11/12/2024',\n",
       "  'Price': '1500'},\n",
       " 1126: {'Name of Product': 'cell',\n",
       "  'Quantity': '1',\n",
       "  'Manufacturing date': '01/11/2021',\n",
       "  'Expiry date': '05/01/2022',\n",
       "  'Price': '10'},\n",
       " 1127: {'Name of Product': 'Phone',\n",
       "  'Quantity': '4',\n",
       "  'Manufacturing date': '05/03/2021',\n",
       "  'Expiry date': '02/11/2027',\n",
       "  'Price': '40000'},\n",
       " 1128: {'Name of Product': 'Insulin',\n",
       "  'Quantity': '5',\n",
       "  'Manufacturing date': '01/01/2021',\n",
       "  'Expiry date': '01/12/2023',\n",
       "  'Price': '3500'},\n",
       " 1129: {'Name of Product': 'lantus',\n",
       "  'Quantity': '10',\n",
       "  'Manufacturing date': '01/04/2021',\n",
       "  'Expiry date': '02/05/2024',\n",
       "  'Price': '5000'},\n",
       " 1130: {'Name of Product': 'Sooji',\n",
       "  'Quantity': '5',\n",
       "  'Manufacturing date': '25/02/2021',\n",
       "  'Expiry date': '28/12/2022',\n",
       "  'Price': '150'},\n",
       " 1131: {'Name of Product': 'Board',\n",
       "  'Quantity': '2',\n",
       "  'Manufacturing date': '01/07/2021',\n",
       "  'Expiry date': '02/05/2023',\n",
       "  'Price': '500'},\n",
       " 1132: {'Name of Product': 'Curtain',\n",
       "  'Quantity': '1',\n",
       "  'Manufacturing date': '15/11/2021',\n",
       "  'Expiry date': '09/11/2026',\n",
       "  'Price': '10800'},\n",
       " 1133: {'Name of Product': 'Bags',\n",
       "  'Quantity': '4',\n",
       "  'Manufacturing date': '15/06/2021',\n",
       "  'Expiry date': '22/09/2022',\n",
       "  'Price': '1000'},\n",
       " 1134: {'Name of Product': 'Kitkat',\n",
       "  'Quantity': '5',\n",
       "  'Manufacturing date': '01/01/2021',\n",
       "  'Expiry date': '02/01/2021',\n",
       "  'Price': '1050'},\n",
       " 1135: {'Name of Product': 'Rubber',\n",
       "  'Quantity': '2',\n",
       "  'Manufacturing date': '25/07/2019',\n",
       "  'Expiry date': '11/12/2024',\n",
       "  'Price': '1500'},\n",
       " 1136: {'Name of Product': 'Tyre',\n",
       "  'Quantity': '1',\n",
       "  'Manufacturing date': '01/11/2021',\n",
       "  'Expiry date': '05/01/2022',\n",
       "  'Price': '1000'},\n",
       " 1137: {'Name of Product': 'Sugar',\n",
       "  'Quantity': '4',\n",
       "  'Manufacturing date': '15/03/2021',\n",
       "  'Expiry date': '26/11/2027',\n",
       "  'Price': '4000'},\n",
       " 1138: {'Name of Product': 'Honey',\n",
       "  'Quantity': '5',\n",
       "  'Manufacturing date': '23/01/2021',\n",
       "  'Expiry date': '29/12/2023',\n",
       "  'Price': '3500'},\n",
       " 1139: {'Name of Product': 'Shoes',\n",
       "  'Quantity': '10',\n",
       "  'Manufacturing date': '01/04/2021',\n",
       "  'Expiry date': '02/05/2024',\n",
       "  'Price': '5000'},\n",
       " 1140: {'Name of Product': 'Moquito Killer',\n",
       "  'Quantity': '5',\n",
       "  'Manufacturing date': '21/02/2021',\n",
       "  'Expiry date': '22/12/2022',\n",
       "  'Price': '1500'}}"
      ]
     },
     "execution_count": 4,
     "metadata": {},
     "output_type": "execute_result"
    }
   ],
   "source": [
    "record"
   ]
  },
  {
   "cell_type": "code",
   "execution_count": 5,
   "id": "c4f33fcc",
   "metadata": {},
   "outputs": [],
   "source": [
    "import json"
   ]
  },
  {
   "cell_type": "code",
   "execution_count": 7,
   "id": "1a769554",
   "metadata": {},
   "outputs": [],
   "source": [
    "js = json.dumps(record)"
   ]
  },
  {
   "cell_type": "code",
   "execution_count": 8,
   "id": "7721505c",
   "metadata": {},
   "outputs": [
    {
     "data": {
      "text/plain": [
       "'{\"1111\": {\"Name of Product\": \"Tomato Kechup\", \"Quantity\": \"1\", \"Manufacturing date\": \"01/09/2021\", \"Expiry date\": \"02/09/2022\", \"Price\": \"100\"}, \"1112\": {\"Name of Product\": \"Kurkure\", \"Quantity\": \"5\", \"Manufacturing date\": \"05/08/2021\", \"Expiry date\": \"02/12/2021\", \"Price\": \"20\"}, \"1113\": {\"Name of Product\": \"LED Bulb\", \"Quantity\": \"2\", \"Manufacturing date\": \"07/07/2021\", \"Expiry date\": \"11/12/2023\", \"Price\": \"150\"}, \"1114\": {\"Name of Product\": \"Apple\", \"Quantity\": \"1\", \"Manufacturing date\": \"01/11/2021\", \"Expiry date\": \"05/11/2021\", \"Price\": \"180\"}, \"1115\": {\"Name of Product\": \"Oil\", \"Quantity\": \"4\", \"Manufacturing date\": \"05/03/2021\", \"Expiry date\": \"02/11/2022\", \"Price\": \"1000\"}, \"1116\": {\"Name of Product\": \"onion\", \"Quantity\": \"5\", \"Manufacturing date\": \"01/01/2021\", \"Expiry date\": \"11/12/2022\", \"Price\": \"150\"}, \"1117\": {\"Name of Product\": \"Masala\", \"Quantity\": \"1\", \"Manufacturing date\": \"01/05/2021\", \"Expiry date\": \"02/05/2022\", \"Price\": \"100\"}, \"1118\": {\"Name of Product\": \"Maggi\", \"Quantity\": \"5\", \"Manufacturing date\": \"28/02/2021\", \"Expiry date\": \"28/12/2021\", \"Price\": \"150\"}, \"1119\": {\"Name of Product\": \"Eye Drop\", \"Quantity\": \"2\", \"Manufacturing date\": \"01/07/2021\", \"Expiry date\": \"02/12/2023\", \"Price\": \"500\"}, \"1120\": {\"Name of Product\": \"Medicines\", \"Quantity\": \"1\", \"Manufacturing date\": \"15/10/2021\", \"Expiry date\": \"09/11/2022\", \"Price\": \"1080\"}, \"1121\": {\"Name of Product\": \"Chocklate\", \"Quantity\": \"4\", \"Manufacturing date\": \"15/03/2021\", \"Expiry date\": \"22/09/2022\", \"Price\": \"1000\"}, \"1122\": {\"Name of Product\": \"Pizza\", \"Quantity\": \"5\", \"Manufacturing date\": \"01/01/2021\", \"Expiry date\": \"02/01/2021\", \"Price\": \"1050\"}, \"1123\": {\"Name of Product\": \"Hard drinks\", \"Quantity\": \"1\", \"Manufacturing date\": \"03/09/2021\", \"Expiry date\": \"05/09/2022\", \"Price\": \"1000\"}, \"1124\": {\"Name of Product\": \"Car\", \"Quantity\": \"1\", \"Manufacturing date\": \"05/08/2021\", \"Expiry date\": \"02/12/2036\", \"Price\": \"200000\"}, \"1125\": {\"Name of Product\": \"Charger\", \"Quantity\": \"2\", \"Manufacturing date\": \"07/07/2019\", \"Expiry date\": \"11/12/2024\", \"Price\": \"1500\"}, \"1126\": {\"Name of Product\": \"cell\", \"Quantity\": \"1\", \"Manufacturing date\": \"01/11/2021\", \"Expiry date\": \"05/01/2022\", \"Price\": \"10\"}, \"1127\": {\"Name of Product\": \"Phone\", \"Quantity\": \"4\", \"Manufacturing date\": \"05/03/2021\", \"Expiry date\": \"02/11/2027\", \"Price\": \"40000\"}, \"1128\": {\"Name of Product\": \"Insulin\", \"Quantity\": \"5\", \"Manufacturing date\": \"01/01/2021\", \"Expiry date\": \"01/12/2023\", \"Price\": \"3500\"}, \"1129\": {\"Name of Product\": \"lantus\", \"Quantity\": \"10\", \"Manufacturing date\": \"01/04/2021\", \"Expiry date\": \"02/05/2024\", \"Price\": \"5000\"}, \"1130\": {\"Name of Product\": \"Sooji\", \"Quantity\": \"5\", \"Manufacturing date\": \"25/02/2021\", \"Expiry date\": \"28/12/2022\", \"Price\": \"150\"}, \"1131\": {\"Name of Product\": \"Board\", \"Quantity\": \"2\", \"Manufacturing date\": \"01/07/2021\", \"Expiry date\": \"02/05/2023\", \"Price\": \"500\"}, \"1132\": {\"Name of Product\": \"Curtain\", \"Quantity\": \"1\", \"Manufacturing date\": \"15/11/2021\", \"Expiry date\": \"09/11/2026\", \"Price\": \"10800\"}, \"1133\": {\"Name of Product\": \"Bags\", \"Quantity\": \"4\", \"Manufacturing date\": \"15/06/2021\", \"Expiry date\": \"22/09/2022\", \"Price\": \"1000\"}, \"1134\": {\"Name of Product\": \"Kitkat\", \"Quantity\": \"5\", \"Manufacturing date\": \"01/01/2021\", \"Expiry date\": \"02/01/2021\", \"Price\": \"1050\"}, \"1135\": {\"Name of Product\": \"Rubber\", \"Quantity\": \"2\", \"Manufacturing date\": \"25/07/2019\", \"Expiry date\": \"11/12/2024\", \"Price\": \"1500\"}, \"1136\": {\"Name of Product\": \"Tyre\", \"Quantity\": \"1\", \"Manufacturing date\": \"01/11/2021\", \"Expiry date\": \"05/01/2022\", \"Price\": \"1000\"}, \"1137\": {\"Name of Product\": \"Sugar\", \"Quantity\": \"4\", \"Manufacturing date\": \"15/03/2021\", \"Expiry date\": \"26/11/2027\", \"Price\": \"4000\"}, \"1138\": {\"Name of Product\": \"Honey\", \"Quantity\": \"5\", \"Manufacturing date\": \"23/01/2021\", \"Expiry date\": \"29/12/2023\", \"Price\": \"3500\"}, \"1139\": {\"Name of Product\": \"Shoes\", \"Quantity\": \"10\", \"Manufacturing date\": \"01/04/2021\", \"Expiry date\": \"02/05/2024\", \"Price\": \"5000\"}, \"1140\": {\"Name of Product\": \"Moquito Killer\", \"Quantity\": \"5\", \"Manufacturing date\": \"21/02/2021\", \"Expiry date\": \"22/12/2022\", \"Price\": \"1500\"}}'"
      ]
     },
     "execution_count": 8,
     "metadata": {},
     "output_type": "execute_result"
    }
   ],
   "source": [
    "js"
   ]
  },
  {
   "cell_type": "code",
   "execution_count": 15,
   "id": "c44f8e3e",
   "metadata": {},
   "outputs": [],
   "source": [
    "fd = open(\"record.json\",'w')\n",
    "fd.write(js)\n",
    "fd.close()"
   ]
  },
  {
   "cell_type": "markdown",
   "id": "2a20fc76",
   "metadata": {},
   "source": [
    "# Add product to inventry"
   ]
  },
  {
   "cell_type": "code",
   "execution_count": 36,
   "id": "4915f3da",
   "metadata": {},
   "outputs": [
    {
     "name": "stdout",
     "output_type": "stream",
     "text": [
      "Enter product id:1112\n",
      "Enter name:pen\n",
      "Enter price:2\n",
      "Enter quantity:100\n",
      "Enter Manufacturing:12/08//2019\n",
      "Enter Expiry:12/12/2022\n"
     ]
    }
   ],
   "source": [
    "prod_id = str(input(\"Enter product id:\"))\n",
    "name = str(input(\"Enter name:\"))\n",
    "price = str(input(\"Enter price:\"))\n",
    "quantity = str(input(\"Enter quantity:\"))\n",
    "Mdate = str(input(\"Enter Manufacturing:\"))\n",
    "Exdate = str(input(\"Enter Expiry:\"))\n",
    "\n",
    "fd = open(\"record.json\",'r')\n",
    "r = fd.read()\n",
    "fd.close()\n",
    "\n",
    "records = json.loads(r)\n",
    "\n",
    "record[prod_id] = {'name': name, 'price': price, 'quantity': quantity, 'Manufacturing date': Mdate, 'Expiry date': Exdate}\n",
    "\n",
    "js = json.dumps(record)\n",
    "fd = open(\"record.json\",'w')\n",
    "fd.write(js)\n",
    "fd.close()"
   ]
  },
  {
   "cell_type": "markdown",
   "id": "6a20816c",
   "metadata": {},
   "source": [
    "# Remove product from inventry"
   ]
  },
  {
   "cell_type": "code",
   "execution_count": 38,
   "id": "92f77850",
   "metadata": {},
   "outputs": [
    {
     "name": "stdout",
     "output_type": "stream",
     "text": [
      "Enter product id:1113\n"
     ]
    }
   ],
   "source": [
    "\n",
    "fd = open(\"record.json\",'r')\n",
    "r = fd.read()\n",
    "fd.close()\n",
    "\n",
    "record = json.loads(r)\n",
    "\n",
    "prod_id = str(input(\"Enter product id:\"))\n",
    "\n",
    "\n",
    "del record[prod_id]\n",
    "\n",
    "js = json.dumps(record)\n",
    "fd = open(\"record.json\",'w')\n",
    "fd.write(js)\n",
    "fd.close()\n"
   ]
  },
  {
   "cell_type": "markdown",
   "id": "bd7af1d4",
   "metadata": {},
   "source": [
    "# Purchasing product from inventry\n"
   ]
  },
  {
   "cell_type": "code",
   "execution_count": 44,
   "id": "aebac0e7",
   "metadata": {},
   "outputs": [
    {
     "name": "stdout",
     "output_type": "stream",
     "text": [
      "Enter the product_Id: 1115\n",
      "Enter the quantity: 1\n",
      "Product:  Oil\n",
      "Price:  1000\n",
      "Expiry date:  02/11/2022\n",
      "Manufacturing date:  05/03/2021\n",
      "Billing Amount:  1000\n",
      "****************************************************\n",
      "Thankyou sir for a purchasing at this Store\n",
      "Have a nice day\n"
     ]
    }
   ],
   "source": [
    "import time\n",
    "fd = open(\"record.json\",'r')\n",
    "r = fd.read()\n",
    "fd.close()\n",
    "\n",
    "Record = json.loads(r)\n",
    "\n",
    "user_prod  = str(input(\"Enter the product_Id: \"))\n",
    "user_quant = int(input(\"Enter the quantity: \"))\n",
    "\n",
    "\n",
    "Time=time.ctime()\n",
    "if user_prod not in Record:\n",
    "    print(\"*************************************************\")\n",
    "    \n",
    "    print(\"Sorry Sir this Item is not availiable in my store\")\n",
    "\n",
    "\n",
    "else:\n",
    "    print(\"Product: \", Record[user_prod]['Name of Product'])\n",
    "    print(\"Price: \", Record[user_prod]['Price'])\n",
    "    print(\"Expiry date: \", Record[user_prod]['Expiry date'])\n",
    "    print(\"Manufacturing date: \", Record[user_prod]['Manufacturing date'])\n",
    "    print(\"Billing Amount: \", Record[user_prod]['Price'] * user_quant)\n",
    "\n",
    "\n",
    "\n",
    "    Record[user_prod]['Quantity'] = str(int(Record[user_prod]['Quantity']) - user_quant)\n",
    "    print(\"****************************************************\")\n",
    "    print(\"Thankyou sir for a purchasing at this Store\")\n",
    "    print(\"Have a nice day\")\n",
    "    \n",
    "    js = json.dumps(Record)\n",
    "    fd = open(\"record.json\",'w')\n",
    "    fd.write(js)\n",
    "    fd.close()"
   ]
  },
  {
   "cell_type": "markdown",
   "id": "bffab0c5",
   "metadata": {},
   "source": [
    "# updating inventry after shopping"
   ]
  },
  {
   "cell_type": "code",
   "execution_count": 51,
   "id": "b1733340",
   "metadata": {},
   "outputs": [],
   "source": [
    "js = json.dumps(Record)\n",
    "\n",
    "fd = open(\"Record.json\",'w')\n",
    "fd.write(js)\n",
    "fd.close()"
   ]
  },
  {
   "cell_type": "code",
   "execution_count": null,
   "id": "7822a36e",
   "metadata": {},
   "outputs": [],
   "source": []
  }
 ],
 "metadata": {
  "kernelspec": {
   "display_name": "Python 3",
   "language": "python",
   "name": "python3"
  },
  "language_info": {
   "codemirror_mode": {
    "name": "ipython",
    "version": 3
   },
   "file_extension": ".py",
   "mimetype": "text/x-python",
   "name": "python",
   "nbconvert_exporter": "python",
   "pygments_lexer": "ipython3",
   "version": "3.8.8"
  }
 },
 "nbformat": 4,
 "nbformat_minor": 5
}
